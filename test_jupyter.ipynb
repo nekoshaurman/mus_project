{
 "cells": [
  {
   "cell_type": "code",
   "execution_count": 10,
   "id": "bf05a242",
   "metadata": {
    "ExecuteTime": {
     "end_time": "2022-11-15T09:58:02.942168Z",
     "start_time": "2022-11-15T09:58:02.856150Z"
    }
   },
   "outputs": [
    {
     "data": {
      "text/html": [
       "<div>\n",
       "<style scoped>\n",
       "    .dataframe tbody tr th:only-of-type {\n",
       "        vertical-align: middle;\n",
       "    }\n",
       "\n",
       "    .dataframe tbody tr th {\n",
       "        vertical-align: top;\n",
       "    }\n",
       "\n",
       "    .dataframe thead th {\n",
       "        text-align: right;\n",
       "    }\n",
       "</style>\n",
       "<table border=\"1\" class=\"dataframe\">\n",
       "  <thead>\n",
       "    <tr style=\"text-align: right;\">\n",
       "      <th></th>\n",
       "      <th>id</th>\n",
       "      <th>genre</th>\n",
       "      <th>track_name</th>\n",
       "      <th>artist_name</th>\n",
       "      <th>valence</th>\n",
       "      <th>energy</th>\n",
       "    </tr>\n",
       "  </thead>\n",
       "  <tbody>\n",
       "    <tr>\n",
       "      <th>0</th>\n",
       "      <td>7zyki4FEaC6OPAJ1BDG9E4</td>\n",
       "      <td>german</td>\n",
       "      <td>Neue Männer braucht das Land</td>\n",
       "      <td>Various Artists</td>\n",
       "      <td>0.8150</td>\n",
       "      <td>0.7940</td>\n",
       "    </tr>\n",
       "    <tr>\n",
       "      <th>1</th>\n",
       "      <td>7zy44ATdUMkTMMlUL8wwdR</td>\n",
       "      <td>rockabilly</td>\n",
       "      <td>I Was A Fool</td>\n",
       "      <td>The Slapbacks</td>\n",
       "      <td>0.7260</td>\n",
       "      <td>0.9460</td>\n",
       "    </tr>\n",
       "    <tr>\n",
       "      <th>2</th>\n",
       "      <td>7zWO3T6yMFxkvknZX2XWRs</td>\n",
       "      <td>minimal-techno</td>\n",
       "      <td>Gebrünn Gebrünn</td>\n",
       "      <td>Paul Kalkbrenner</td>\n",
       "      <td>0.4720</td>\n",
       "      <td>0.8010</td>\n",
       "    </tr>\n",
       "    <tr>\n",
       "      <th>3</th>\n",
       "      <td>7zuwr7YqqpveNtxlKe1vn6</td>\n",
       "      <td>latin</td>\n",
       "      <td>Y Tú Te Vas</td>\n",
       "      <td>Chayanne</td>\n",
       "      <td>0.5250</td>\n",
       "      <td>0.6070</td>\n",
       "    </tr>\n",
       "    <tr>\n",
       "      <th>4</th>\n",
       "      <td>7zto61V8ySp03Qi6X1LU2X</td>\n",
       "      <td>blues</td>\n",
       "      <td>Tin Pan Alley (AKA Roughest Place in Town)</td>\n",
       "      <td>Stevie Ray Vaughan</td>\n",
       "      <td>0.1680</td>\n",
       "      <td>0.0968</td>\n",
       "    </tr>\n",
       "    <tr>\n",
       "      <th>...</th>\n",
       "      <td>...</td>\n",
       "      <td>...</td>\n",
       "      <td>...</td>\n",
       "      <td>...</td>\n",
       "      <td>...</td>\n",
       "      <td>...</td>\n",
       "    </tr>\n",
       "    <tr>\n",
       "      <th>5872</th>\n",
       "      <td>00j2LoRUyC20heHG42wopl</td>\n",
       "      <td>house</td>\n",
       "      <td>Cry (Just a Little) - Radio Edit</td>\n",
       "      <td>Bingo Players</td>\n",
       "      <td>0.3650</td>\n",
       "      <td>0.4970</td>\n",
       "    </tr>\n",
       "    <tr>\n",
       "      <th>5873</th>\n",
       "      <td>00ickUoeQMXYJUKzKCNi1n</td>\n",
       "      <td>samba</td>\n",
       "      <td>Portela - Hoje Tem Marmelada</td>\n",
       "      <td>Samba Enredo</td>\n",
       "      <td>0.8180</td>\n",
       "      <td>0.6700</td>\n",
       "    </tr>\n",
       "    <tr>\n",
       "      <th>5874</th>\n",
       "      <td>00ej6EMKgxW52Ex52CVJbg</td>\n",
       "      <td>groove</td>\n",
       "      <td>September</td>\n",
       "      <td>Earth, Wind &amp; Fire</td>\n",
       "      <td>0.9800</td>\n",
       "      <td>0.7300</td>\n",
       "    </tr>\n",
       "    <tr>\n",
       "      <th>5875</th>\n",
       "      <td>00cZea3EmGSAVhUnwvrhqX</td>\n",
       "      <td>black-metal</td>\n",
       "      <td>The Insight And The Catharsis</td>\n",
       "      <td>Dimmu Borgir</td>\n",
       "      <td>0.0489</td>\n",
       "      <td>0.9470</td>\n",
       "    </tr>\n",
       "    <tr>\n",
       "      <th>5876</th>\n",
       "      <td>001wfum8GJj0OPfnTg1eh1</td>\n",
       "      <td>grindcore</td>\n",
       "      <td>Disdain and Contempt</td>\n",
       "      <td>Nasum</td>\n",
       "      <td>0.0572</td>\n",
       "      <td>0.9920</td>\n",
       "    </tr>\n",
       "  </tbody>\n",
       "</table>\n",
       "<p>5877 rows × 6 columns</p>\n",
       "</div>"
      ],
      "text/plain": [
       "                          id           genre  \\\n",
       "0     7zyki4FEaC6OPAJ1BDG9E4          german   \n",
       "1     7zy44ATdUMkTMMlUL8wwdR      rockabilly   \n",
       "2     7zWO3T6yMFxkvknZX2XWRs  minimal-techno   \n",
       "3     7zuwr7YqqpveNtxlKe1vn6           latin   \n",
       "4     7zto61V8ySp03Qi6X1LU2X           blues   \n",
       "...                      ...             ...   \n",
       "5872  00j2LoRUyC20heHG42wopl           house   \n",
       "5873  00ickUoeQMXYJUKzKCNi1n           samba   \n",
       "5874  00ej6EMKgxW52Ex52CVJbg          groove   \n",
       "5875  00cZea3EmGSAVhUnwvrhqX     black-metal   \n",
       "5876  001wfum8GJj0OPfnTg1eh1       grindcore   \n",
       "\n",
       "                                      track_name         artist_name  valence  \\\n",
       "0                   Neue Männer braucht das Land     Various Artists   0.8150   \n",
       "1                                   I Was A Fool       The Slapbacks   0.7260   \n",
       "2                                Gebrünn Gebrünn    Paul Kalkbrenner   0.4720   \n",
       "3                                    Y Tú Te Vas            Chayanne   0.5250   \n",
       "4     Tin Pan Alley (AKA Roughest Place in Town)  Stevie Ray Vaughan   0.1680   \n",
       "...                                          ...                 ...      ...   \n",
       "5872            Cry (Just a Little) - Radio Edit       Bingo Players   0.3650   \n",
       "5873                Portela - Hoje Tem Marmelada        Samba Enredo   0.8180   \n",
       "5874                                   September  Earth, Wind & Fire   0.9800   \n",
       "5875               The Insight And The Catharsis        Dimmu Borgir   0.0489   \n",
       "5876                        Disdain and Contempt               Nasum   0.0572   \n",
       "\n",
       "      energy  \n",
       "0     0.7940  \n",
       "1     0.9460  \n",
       "2     0.8010  \n",
       "3     0.6070  \n",
       "4     0.0968  \n",
       "...      ...  \n",
       "5872  0.4970  \n",
       "5873  0.6700  \n",
       "5874  0.7300  \n",
       "5875  0.9470  \n",
       "5876  0.9920  \n",
       "\n",
       "[5877 rows x 6 columns]"
      ]
     },
     "execution_count": 10,
     "metadata": {},
     "output_type": "execute_result"
    }
   ],
   "source": [
    "import pandas as pd\n",
    "dataset = pd.DataFrame()\n",
    "dataset = pd.read_csv('data_copy3.csv',sep = ';')\n",
    "dataset"
   ]
  },
  {
   "cell_type": "code",
   "execution_count": 17,
   "id": "96dc2b18",
   "metadata": {
    "ExecuteTime": {
     "end_time": "2022-11-15T10:15:26.528038Z",
     "start_time": "2022-11-15T10:15:26.501033Z"
    },
    "scrolled": true
   },
   "outputs": [
    {
     "name": "stdout",
     "output_type": "stream",
     "text": [
      "<class 'pandas.core.frame.DataFrame'>\n",
      "RangeIndex: 5877 entries, 0 to 5876\n",
      "Data columns (total 6 columns):\n",
      " #   Column       Non-Null Count  Dtype  \n",
      "---  ------       --------------  -----  \n",
      " 0   id           5877 non-null   object \n",
      " 1   genre        5877 non-null   object \n",
      " 2   track_name   5874 non-null   object \n",
      " 3   artist_name  5875 non-null   object \n",
      " 4   valence      5875 non-null   float64\n",
      " 5   energy       5875 non-null   float64\n",
      "dtypes: float64(2), object(4)\n",
      "memory usage: 275.6+ KB\n"
     ]
    }
   ],
   "source": [
    "#Если в ласт столбце будет ;\n",
    "#dataset.rename(columns={'energy;': 'energy'}, inplace=True)\n",
    "#dataset\n",
    "#dataset['energy'] = dataset['energy'].str.replace(';','')\n",
    "#dataset\n",
    "#dataset[\"energy\"] = pd.to_numeric(dataset[\"energy\"])\n",
    "dataset.info()"
   ]
  },
  {
   "cell_type": "code",
   "execution_count": 23,
   "id": "0cb7e190",
   "metadata": {
    "ExecuteTime": {
     "end_time": "2022-11-15T10:17:58.320077Z",
     "start_time": "2022-11-15T10:17:58.308084Z"
    }
   },
   "outputs": [],
   "source": [
    "dataset = dataset.dropna(axis = 0)"
   ]
  },
  {
   "cell_type": "code",
   "execution_count": 24,
   "id": "579c222c",
   "metadata": {
    "ExecuteTime": {
     "end_time": "2022-11-15T10:18:00.628833Z",
     "start_time": "2022-11-15T10:18:00.611839Z"
    }
   },
   "outputs": [
    {
     "name": "stdout",
     "output_type": "stream",
     "text": [
      "<class 'pandas.core.frame.DataFrame'>\n",
      "Int64Index: 5872 entries, 0 to 5876\n",
      "Data columns (total 6 columns):\n",
      " #   Column       Non-Null Count  Dtype  \n",
      "---  ------       --------------  -----  \n",
      " 0   id           5872 non-null   object \n",
      " 1   genre        5872 non-null   object \n",
      " 2   track_name   5872 non-null   object \n",
      " 3   artist_name  5872 non-null   object \n",
      " 4   valence      5872 non-null   float64\n",
      " 5   energy       5872 non-null   float64\n",
      "dtypes: float64(2), object(4)\n",
      "memory usage: 321.1+ KB\n"
     ]
    }
   ],
   "source": [
    "dataset.info()"
   ]
  },
  {
   "cell_type": "code",
   "execution_count": null,
   "id": "51c174eb",
   "metadata": {},
   "outputs": [],
   "source": []
  }
 ],
 "metadata": {
  "kernelspec": {
   "display_name": "Python 3 (ipykernel)",
   "language": "python",
   "name": "python3"
  },
  "language_info": {
   "codemirror_mode": {
    "name": "ipython",
    "version": 3
   },
   "file_extension": ".py",
   "mimetype": "text/x-python",
   "name": "python",
   "nbconvert_exporter": "python",
   "pygments_lexer": "ipython3",
   "version": "3.9.12"
  },
  "toc": {
   "base_numbering": 1,
   "nav_menu": {},
   "number_sections": true,
   "sideBar": true,
   "skip_h1_title": false,
   "title_cell": "Table of Contents",
   "title_sidebar": "Contents",
   "toc_cell": false,
   "toc_position": {},
   "toc_section_display": true,
   "toc_window_display": false
  }
 },
 "nbformat": 4,
 "nbformat_minor": 5
}

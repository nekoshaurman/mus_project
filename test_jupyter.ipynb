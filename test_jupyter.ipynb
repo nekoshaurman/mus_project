{
 "cells": [
  {
   "cell_type": "code",
   "execution_count": 6,
   "id": "bf05a242",
   "metadata": {
    "ExecuteTime": {
     "end_time": "2022-10-25T13:55:32.891708Z",
     "start_time": "2022-10-25T13:55:32.821702Z"
    }
   },
   "outputs": [
    {
     "data": {
      "text/html": [
       "<div>\n",
       "<style scoped>\n",
       "    .dataframe tbody tr th:only-of-type {\n",
       "        vertical-align: middle;\n",
       "    }\n",
       "\n",
       "    .dataframe tbody tr th {\n",
       "        vertical-align: top;\n",
       "    }\n",
       "\n",
       "    .dataframe thead th {\n",
       "        text-align: right;\n",
       "    }\n",
       "</style>\n",
       "<table border=\"1\" class=\"dataframe\">\n",
       "  <thead>\n",
       "    <tr style=\"text-align: right;\">\n",
       "      <th></th>\n",
       "      <th>id</th>\n",
       "      <th>genre</th>\n",
       "      <th>track_name</th>\n",
       "      <th>artist_name</th>\n",
       "      <th>valence</th>\n",
       "      <th>energy;</th>\n",
       "    </tr>\n",
       "  </thead>\n",
       "  <tbody>\n",
       "    <tr>\n",
       "      <th>0</th>\n",
       "      <td>3cnRYoW4nYzIuVPCp7k5iG</td>\n",
       "      <td>acoustic</td>\n",
       "      <td>Breakdown</td>\n",
       "      <td>Jack Johnson</td>\n",
       "      <td>0.443</td>\n",
       "      <td>0.394;</td>\n",
       "    </tr>\n",
       "    <tr>\n",
       "      <th>1</th>\n",
       "      <td>6vxHp3CDNo0afgKGp2yi1E</td>\n",
       "      <td>acoustic</td>\n",
       "      <td>Me and Julio Down by the Schoolyard</td>\n",
       "      <td>Paul Simon</td>\n",
       "      <td>0.798</td>\n",
       "      <td>0.816;</td>\n",
       "    </tr>\n",
       "    <tr>\n",
       "      <th>2</th>\n",
       "      <td>5z1vCywwTJAP8qSkGJymFY</td>\n",
       "      <td>acoustic</td>\n",
       "      <td>Creep - Live</td>\n",
       "      <td>Korn</td>\n",
       "      <td>0.236</td>\n",
       "      <td>0.534;</td>\n",
       "    </tr>\n",
       "    <tr>\n",
       "      <th>3</th>\n",
       "      <td>4I2GqMe7L2ccMpUbnDzYLH</td>\n",
       "      <td>acoustic</td>\n",
       "      <td>Somebody To Love</td>\n",
       "      <td>Justin Bieber</td>\n",
       "      <td>0.636</td>\n",
       "      <td>0.839;</td>\n",
       "    </tr>\n",
       "    <tr>\n",
       "      <th>4</th>\n",
       "      <td>7z7fquRFQFXt4Dj7ouWETq</td>\n",
       "      <td>acoustic</td>\n",
       "      <td>Hey There Delilah</td>\n",
       "      <td>Plain White T's</td>\n",
       "      <td>0.304</td>\n",
       "      <td>0.373;</td>\n",
       "    </tr>\n",
       "    <tr>\n",
       "      <th>...</th>\n",
       "      <td>...</td>\n",
       "      <td>...</td>\n",
       "      <td>...</td>\n",
       "      <td>...</td>\n",
       "      <td>...</td>\n",
       "      <td>...</td>\n",
       "    </tr>\n",
       "    <tr>\n",
       "      <th>5872</th>\n",
       "      <td>1chOGLUMBHjqNiyqRak7IM</td>\n",
       "      <td>world-music</td>\n",
       "      <td>Addis-A-Baba</td>\n",
       "      <td>Augustus Pablo</td>\n",
       "      <td>0.497</td>\n",
       "      <td>0.433;</td>\n",
       "    </tr>\n",
       "    <tr>\n",
       "      <th>5873</th>\n",
       "      <td>4dErzZexpUhNcgdVcRdyM8</td>\n",
       "      <td>world-music</td>\n",
       "      <td>Dia 36</td>\n",
       "      <td>Os Mutantes</td>\n",
       "      <td>0.357</td>\n",
       "      <td>0.441;</td>\n",
       "    </tr>\n",
       "    <tr>\n",
       "      <th>5874</th>\n",
       "      <td>35uGfOHUzX6Ux1UmpIz8GR</td>\n",
       "      <td>world-music</td>\n",
       "      <td>Southwest Indian Drums</td>\n",
       "      <td>Drums Of The World</td>\n",
       "      <td>0.228</td>\n",
       "      <td>0.545;</td>\n",
       "    </tr>\n",
       "    <tr>\n",
       "      <th>5875</th>\n",
       "      <td>3yQn3OaOsRlmGxp7JkuaWI</td>\n",
       "      <td>world-music</td>\n",
       "      <td>Merry Blues</td>\n",
       "      <td>Manu Chao</td>\n",
       "      <td>0.896</td>\n",
       "      <td>0.872;</td>\n",
       "    </tr>\n",
       "    <tr>\n",
       "      <th>5876</th>\n",
       "      <td>2st24VONuY9hqiGAPkhyua</td>\n",
       "      <td>world-music</td>\n",
       "      <td>Tamiditine</td>\n",
       "      <td>Bombino</td>\n",
       "      <td>0.200</td>\n",
       "      <td>0.359;</td>\n",
       "    </tr>\n",
       "  </tbody>\n",
       "</table>\n",
       "<p>5877 rows × 6 columns</p>\n",
       "</div>"
      ],
      "text/plain": [
       "                          id        genre  \\\n",
       "0     3cnRYoW4nYzIuVPCp7k5iG     acoustic   \n",
       "1     6vxHp3CDNo0afgKGp2yi1E     acoustic   \n",
       "2     5z1vCywwTJAP8qSkGJymFY     acoustic   \n",
       "3     4I2GqMe7L2ccMpUbnDzYLH     acoustic   \n",
       "4     7z7fquRFQFXt4Dj7ouWETq     acoustic   \n",
       "...                      ...          ...   \n",
       "5872  1chOGLUMBHjqNiyqRak7IM  world-music   \n",
       "5873  4dErzZexpUhNcgdVcRdyM8  world-music   \n",
       "5874  35uGfOHUzX6Ux1UmpIz8GR  world-music   \n",
       "5875  3yQn3OaOsRlmGxp7JkuaWI  world-music   \n",
       "5876  2st24VONuY9hqiGAPkhyua  world-music   \n",
       "\n",
       "                               track_name         artist_name  valence energy;  \n",
       "0                               Breakdown        Jack Johnson    0.443  0.394;  \n",
       "1     Me and Julio Down by the Schoolyard          Paul Simon    0.798  0.816;  \n",
       "2                            Creep - Live                Korn    0.236  0.534;  \n",
       "3                        Somebody To Love       Justin Bieber    0.636  0.839;  \n",
       "4                       Hey There Delilah     Plain White T's    0.304  0.373;  \n",
       "...                                   ...                 ...      ...     ...  \n",
       "5872                         Addis-A-Baba      Augustus Pablo    0.497  0.433;  \n",
       "5873                               Dia 36         Os Mutantes    0.357  0.441;  \n",
       "5874               Southwest Indian Drums  Drums Of The World    0.228  0.545;  \n",
       "5875                          Merry Blues           Manu Chao    0.896  0.872;  \n",
       "5876                           Tamiditine             Bombino    0.200  0.359;  \n",
       "\n",
       "[5877 rows x 6 columns]"
      ]
     },
     "execution_count": 6,
     "metadata": {},
     "output_type": "execute_result"
    }
   ],
   "source": [
    "import pandas as pd\n",
    "dataset = pd.DataFrame()\n",
    "dataset = pd.read_csv('data_copy1.csv', sep = ',')\n",
    "dataset"
   ]
  },
  {
   "cell_type": "code",
   "execution_count": 35,
   "id": "96dc2b18",
   "metadata": {
    "ExecuteTime": {
     "end_time": "2022-10-25T14:43:09.497605Z",
     "start_time": "2022-10-25T14:43:09.465585Z"
    },
    "scrolled": false
   },
   "outputs": [
    {
     "name": "stdout",
     "output_type": "stream",
     "text": [
      "<class 'pandas.core.frame.DataFrame'>\n",
      "RangeIndex: 5877 entries, 0 to 5876\n",
      "Data columns (total 6 columns):\n",
      " #   Column       Non-Null Count  Dtype  \n",
      "---  ------       --------------  -----  \n",
      " 0   id           5877 non-null   object \n",
      " 1   genre        5602 non-null   object \n",
      " 2   track_name   5599 non-null   object \n",
      " 3   artist_name  5602 non-null   object \n",
      " 4   valence      5602 non-null   float64\n",
      " 5   energy       5602 non-null   float64\n",
      "dtypes: float64(2), object(4)\n",
      "memory usage: 275.6+ KB\n"
     ]
    }
   ],
   "source": [
    "#dataset.rename(columns={'energy;': 'energy'}, inplace=True)\n",
    "#dataset['energy'] = dataset['energy'].str.replace(';','')\n",
    "#dataset[\"energy\"] = pd.to_numeric(dataset[\"energy\"])\n",
    "dataset.info()\n",
    "#dataset"
   ]
  },
  {
   "cell_type": "code",
   "execution_count": null,
   "id": "0cb7e190",
   "metadata": {
    "ExecuteTime": {
     "end_time": "2022-10-25T15:51:03.340010Z",
     "start_time": "2022-10-25T15:51:03.328028Z"
    }
   },
   "outputs": [],
   "source": []
  },
  {
   "cell_type": "code",
   "execution_count": null,
   "id": "579c222c",
   "metadata": {
    "ExecuteTime": {
     "end_time": "2022-10-25T15:25:16.944153Z",
     "start_time": "2022-10-25T15:25:16.917163Z"
    }
   },
   "outputs": [],
   "source": []
  },
  {
   "cell_type": "code",
   "execution_count": null,
   "id": "51c174eb",
   "metadata": {},
   "outputs": [],
   "source": []
  }
 ],
 "metadata": {
  "kernelspec": {
   "display_name": "Python 3 (ipykernel)",
   "language": "python",
   "name": "python3"
  },
  "language_info": {
   "codemirror_mode": {
    "name": "ipython",
    "version": 3
   },
   "file_extension": ".py",
   "mimetype": "text/x-python",
   "name": "python",
   "nbconvert_exporter": "python",
   "pygments_lexer": "ipython3",
   "version": "3.9.12"
  },
  "toc": {
   "base_numbering": 1,
   "nav_menu": {},
   "number_sections": true,
   "sideBar": true,
   "skip_h1_title": false,
   "title_cell": "Table of Contents",
   "title_sidebar": "Contents",
   "toc_cell": false,
   "toc_position": {},
   "toc_section_display": true,
   "toc_window_display": false
  }
 },
 "nbformat": 4,
 "nbformat_minor": 5
}
